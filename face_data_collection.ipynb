{
 "cells": [
  {
   "cell_type": "code",
   "execution_count": 1,
   "id": "ef61b5c8-c7fe-4991-aac0-a391720f24b7",
   "metadata": {},
   "outputs": [
    {
     "name": "stdin",
     "output_type": "stream",
     "text": [
      "enter your name : Akshita\n"
     ]
    },
    {
     "name": "stdout",
     "output_type": "stream",
     "text": [
      "100\n",
      "100\n",
      "100\n",
      "100\n",
      "100\n",
      "100\n",
      "100\n",
      "100\n",
      "100\n",
      "100\n",
      "100\n",
      "(11, 30000)\n",
      "data saved successfully!! :)\n"
     ]
    }
   ],
   "source": [
    "# Write a Python Script that captures images from your webcam video stream\n",
    "# Extracts all Faces from the image frame (using haarcascades)\n",
    "# Stores the Face information into numpy arrays\n",
    "\n",
    "# 1. Read and show video stream, capture images\n",
    "# 2. Detect Faces and show bounding box (haarcascade)\n",
    "# 3. Flatten the largest face image(gray scale) and save in a numpy array\n",
    "# 4. Repeat the above for multiple people to generate training data\n",
    "\n",
    "import cv2\n",
    "import numpy as np\n",
    "import os\n",
    "\n",
    "#Init Camera\n",
    "cap=cv2.VideoCapture(0)\n",
    "\n",
    "#face detection\n",
    "face_cascade= cv2.CascadeClassifier(\"haarcascade_frontalface_alt.xml\")\n",
    "\n",
    "\n",
    "face_data=[]\n",
    "dataset_path=\"./data/\"\n",
    "file_name=input(\"enter your name :\")\n",
    "\n",
    "while True:\n",
    "    ret, frame = cap.read()\n",
    "\n",
    "    \n",
    "    if ret==False:\n",
    "        continue\n",
    "\n",
    "    faces= face_cascade.detectMultiScale(frame, 1.3, 5)\n",
    "    if len(faces)==0:\n",
    "        continue\n",
    "\n",
    "    faces=sorted(faces, key=lambda f:f[2]*f[3])\n",
    "\n",
    "    # Pick the last face (because it is the largest face acc to area(f[2]*f[3]))\n",
    "    for face in faces[-1:]:\n",
    "\n",
    "        x,y,w,h = face\n",
    "        cv2.rectangle(frame, (x,y), (x+w,y+h), (0,255,255), 2)\n",
    "\n",
    "        #Extract (Crop out the required face) : Region of Interest\n",
    "        offset=10\n",
    "        face_section=frame[y-offset:y+h+offset, x-offset:x+w+offset]\n",
    "        face_section=cv2.resize(face_section, (100,100))\n",
    "        face_data.append(face_section)\n",
    "        print(len(face_section))\n",
    "    \n",
    "    cv2.imshow(\"Frame\",frame)\n",
    "    \n",
    "    Key_pressed=cv2.waitKey(1) & 0xFF\n",
    "    if Key_pressed==ord('a'):\n",
    "        break\n",
    "\n",
    "# Convert our face list array into a numpy array\n",
    "face_data=np.asarray(face_data)\n",
    "face_data=face_data.reshape((face_data.shape[0],-1))\n",
    "print(face_data.shape)\n",
    "\n",
    "# Create the directory if it doesn't exist\n",
    "if not os.path.exists(dataset_path):\n",
    "    os.makedirs(dataset_path)\n",
    "\n",
    "#save this data into file system\n",
    "np.save(dataset_path+file_name+'.npy', face_data)\n",
    "print(\"data saved successfully!! :)\")\n",
    "        \n",
    "cap.release()\n",
    "cv2.destroyAllWindows()"
   ]
  },
  {
   "cell_type": "code",
   "execution_count": null,
   "id": "f4b4e403-4ff9-426e-9e52-a222d5c5d3cb",
   "metadata": {},
   "outputs": [],
   "source": []
  },
  {
   "cell_type": "code",
   "execution_count": null,
   "id": "f69a4e0d-e006-43d5-90b2-62036e2c1ee5",
   "metadata": {},
   "outputs": [],
   "source": []
  }
 ],
 "metadata": {
  "kernelspec": {
   "display_name": "Python 3 (ipykernel)",
   "language": "python",
   "name": "python3"
  },
  "language_info": {
   "codemirror_mode": {
    "name": "ipython",
    "version": 3
   },
   "file_extension": ".py",
   "mimetype": "text/x-python",
   "name": "python",
   "nbconvert_exporter": "python",
   "pygments_lexer": "ipython3",
   "version": "3.12.6"
  }
 },
 "nbformat": 4,
 "nbformat_minor": 5
}
